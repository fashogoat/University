{
  "nbformat": 4,
  "nbformat_minor": 0,
  "metadata": {
    "colab": {
      "provenance": [],
      "authorship_tag": "ABX9TyO/xeU2JV4qxUInWEBVogpd",
      "include_colab_link": true
    },
    "kernelspec": {
      "name": "python3",
      "display_name": "Python 3"
    },
    "language_info": {
      "name": "python"
    }
  },
  "cells": [
    {
      "cell_type": "markdown",
      "metadata": {
        "id": "view-in-github",
        "colab_type": "text"
      },
      "source": [
        "<a href=\"https://colab.research.google.com/github/fashogoat/University/blob/main/Tasks/Module_5_.ipynb\" target=\"_parent\"><img src=\"https://colab.research.google.com/assets/colab-badge.svg\" alt=\"Open In Colab\"/></a>"
      ]
    },
    {
      "cell_type": "markdown",
      "source": [
        "Задание 1"
      ],
      "metadata": {
        "id": "SGeB31Ffvmen"
      }
    },
    {
      "cell_type": "code",
      "source": [
        "n = int(input())\n",
        "for i in range (2,a):\n",
        "  if n % i == 0:\n",
        "    print(i)\n",
        "    break"
      ],
      "metadata": {
        "colab": {
          "base_uri": "https://localhost:8080/"
        },
        "id": "wa5Ieznivnvu",
        "outputId": "3ca1a2f8-16b0-416a-fdc1-3aebba49fa8e"
      },
      "execution_count": 5,
      "outputs": [
        {
          "output_type": "stream",
          "name": "stdout",
          "text": [
            "15\n",
            "3\n"
          ]
        }
      ]
    },
    {
      "cell_type": "markdown",
      "source": [
        "Задание 2"
      ],
      "metadata": {
        "id": "jGSGH24bwESj"
      }
    },
    {
      "cell_type": "code",
      "source": [
        "a=int(input())\n",
        "for n in range(100,0,-1):\n",
        "  if 2**n <= a:\n",
        "    print(n, 2**n)\n",
        "    break"
      ],
      "metadata": {
        "colab": {
          "base_uri": "https://localhost:8080/"
        },
        "id": "k9O2Iwo3wFsC",
        "outputId": "2b4f9913-067a-4308-832e-a3b8342e9948"
      },
      "execution_count": 6,
      "outputs": [
        {
          "output_type": "stream",
          "name": "stdout",
          "text": [
            "50\n",
            "5 32\n"
          ]
        }
      ]
    },
    {
      "cell_type": "markdown",
      "source": [
        "Задание 3"
      ],
      "metadata": {
        "id": "aSP8K9JgwWCW"
      }
    },
    {
      "cell_type": "code",
      "source": [
        "a = int(input())\n",
        "b = int(input())\n",
        "c = 0\n",
        "while a < b:\n",
        "  c += 1\n",
        "  a = a * 1.1\n",
        "print(c+1)"
      ],
      "metadata": {
        "colab": {
          "base_uri": "https://localhost:8080/"
        },
        "id": "AGM6QrMqwXus",
        "outputId": "cda7aea6-304f-4dc2-a47e-ef1c70d09b53"
      },
      "execution_count": 7,
      "outputs": [
        {
          "output_type": "stream",
          "name": "stdout",
          "text": [
            "10\n",
            "30\n",
            "13\n"
          ]
        }
      ]
    },
    {
      "cell_type": "markdown",
      "source": [
        "Задание 4"
      ],
      "metadata": {
        "id": "dT9mLhlzwYRh"
      }
    },
    {
      "cell_type": "code",
      "source": [
        "c = 0\n",
        "a = 0\n",
        "\n",
        "while True:\n",
        "    n = int(input())\n",
        "    if n == 0:\n",
        "        break\n",
        "    if a != 0 and n > a:\n",
        "        c += 1\n",
        "    a = n\n",
        "print(c)"
      ],
      "metadata": {
        "colab": {
          "base_uri": "https://localhost:8080/"
        },
        "id": "bxWHekAHwaF1",
        "outputId": "119b96c8-5661-4833-e5ce-286edd7a3b63"
      },
      "execution_count": 15,
      "outputs": [
        {
          "output_type": "stream",
          "name": "stdout",
          "text": [
            "1\n",
            "2\n",
            "3\n",
            "4\n",
            "5\n",
            "0\n",
            "4\n"
          ]
        }
      ]
    },
    {
      "cell_type": "markdown",
      "source": [
        "Задание 5"
      ],
      "metadata": {
        "id": "z6bTGg56waZz"
      }
    },
    {
      "cell_type": "code",
      "source": [
        "a = int(input())\n",
        "\n",
        "i = 1\n",
        "while i * i <= a:\n",
        "    print(i * i)\n",
        "    i += 1"
      ],
      "metadata": {
        "colab": {
          "base_uri": "https://localhost:8080/"
        },
        "id": "C_Fp8PtGwcWW",
        "outputId": "d853f458-9b20-49c0-f72f-d6391bdff916"
      },
      "execution_count": 16,
      "outputs": [
        {
          "output_type": "stream",
          "name": "stdout",
          "text": [
            "50\n",
            "1\n",
            "4\n",
            "9\n",
            "16\n",
            "25\n",
            "36\n",
            "49\n"
          ]
        }
      ]
    },
    {
      "cell_type": "markdown",
      "source": [
        "Задание 6"
      ],
      "metadata": {
        "id": "bauiL9HWwfCA"
      }
    },
    {
      "cell_type": "code",
      "source": [
        "n = int(input())\n",
        "\n",
        "a = 1\n",
        "b = 1\n",
        "d = 2\n",
        "\n",
        "if n == 1:\n",
        "    print(d)\n",
        "else:\n",
        "    while b < n:\n",
        "        c = a + b\n",
        "        d += 1\n",
        "        if c == n:\n",
        "            print(d)\n",
        "            break\n",
        "        a = b\n",
        "        b = c\n",
        "    else:\n",
        "        print(-1)"
      ],
      "metadata": {
        "colab": {
          "base_uri": "https://localhost:8080/"
        },
        "id": "1caMCCVOwgiV",
        "outputId": "e2f61413-114c-429e-ce0b-5e908f4fa446"
      },
      "execution_count": 17,
      "outputs": [
        {
          "output_type": "stream",
          "name": "stdout",
          "text": [
            "Введите число: 8\n",
            "6\n"
          ]
        }
      ]
    },
    {
      "cell_type": "markdown",
      "source": [
        "Задание 7"
      ],
      "metadata": {
        "id": "LSsJTM47whaw"
      }
    },
    {
      "cell_type": "code",
      "source": [
        "n = int(input())\n",
        "\n",
        "a = 1\n",
        "b = 1\n",
        "\n",
        "if n == 1 or n == 2:\n",
        "  c = 1\n",
        "else:\n",
        "  i = 2\n",
        "  while i < n:\n",
        "    c = a + b\n",
        "    a = b\n",
        "    b = c\n",
        "    i += 1\n",
        "  print(c)"
      ],
      "metadata": {
        "colab": {
          "base_uri": "https://localhost:8080/"
        },
        "id": "e-oz2rS_wjTq",
        "outputId": "60c40d66-7392-4994-f36b-6edc2aa791dd"
      },
      "execution_count": 22,
      "outputs": [
        {
          "output_type": "stream",
          "name": "stdout",
          "text": [
            "6\n",
            "8\n"
          ]
        }
      ]
    },
    {
      "cell_type": "markdown",
      "source": [
        "Задание 8"
      ],
      "metadata": {
        "id": "BAhggyI6wjym"
      }
    },
    {
      "cell_type": "code",
      "source": [
        "a = []\n",
        "b = 0\n",
        "max = 0\n",
        "\n",
        "while True:\n",
        "    n = int(input())\n",
        "    if n == 0:\n",
        "        break\n",
        "    a.append(n)\n",
        "\n",
        "for i in range(len(a)):\n",
        "    if i == 0 or a[i] != a[i-1]:\n",
        "        b = 1\n",
        "    else:\n",
        "        b += 1\n",
        "    if b > max:\n",
        "        max = b\n",
        "print(max)"
      ],
      "metadata": {
        "colab": {
          "base_uri": "https://localhost:8080/"
        },
        "id": "XsApakrOwlaQ",
        "outputId": "fef36a79-61bd-45cd-f109-864378b4484b"
      },
      "execution_count": 23,
      "outputs": [
        {
          "output_type": "stream",
          "name": "stdout",
          "text": [
            "1\n",
            "2\n",
            "2\n",
            "2\n",
            "9\n",
            "7\n",
            "7\n",
            "2\n",
            "1\n",
            "0\n",
            "3\n"
          ]
        }
      ]
    }
  ]
}