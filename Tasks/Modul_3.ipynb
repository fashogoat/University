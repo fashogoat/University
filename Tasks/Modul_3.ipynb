{
  "nbformat": 4,
  "nbformat_minor": 0,
  "metadata": {
    "colab": {
      "provenance": [],
      "authorship_tag": "ABX9TyO1lH8c+R7tyBHqQSy7lafL",
      "include_colab_link": true
    },
    "kernelspec": {
      "name": "python3",
      "display_name": "Python 3"
    },
    "language_info": {
      "name": "python"
    }
  },
  "cells": [
    {
      "cell_type": "markdown",
      "metadata": {
        "id": "view-in-github",
        "colab_type": "text"
      },
      "source": [
        "<a href=\"https://colab.research.google.com/github/fashogoat/University/blob/main/Tasks/Modul_3.ipynb\" target=\"_parent\"><img src=\"https://colab.research.google.com/assets/colab-badge.svg\" alt=\"Open In Colab\"/></a>"
      ]
    },
    {
      "cell_type": "markdown",
      "source": [
        "Задание 1"
      ],
      "metadata": {
        "id": "r4yInU3lG6j0"
      }
    },
    {
      "cell_type": "code",
      "source": [
        "a = (input().count(' ') + 1)\n",
        "print(a)"
      ],
      "metadata": {
        "colab": {
          "base_uri": "https://localhost:8080/"
        },
        "id": "ejUrXDp_G7Yt",
        "outputId": "cda34ef2-26b0-4e2e-abec-7495441d9bd8"
      },
      "execution_count": 1,
      "outputs": [
        {
          "output_type": "stream",
          "name": "stdout",
          "text": [
            "Hello world\n",
            "2\n"
          ]
        }
      ]
    },
    {
      "cell_type": "markdown",
      "source": [
        "Задание 2"
      ],
      "metadata": {
        "id": "eNs0syMIIRe3"
      }
    },
    {
      "cell_type": "code",
      "source": [
        "a = input()\n",
        "a1 = a[:a.find(' ')]\n",
        "a2 = a[a.find(' ') + 1:]\n",
        "print(a2, '', a1)"
      ],
      "metadata": {
        "colab": {
          "base_uri": "https://localhost:8080/"
        },
        "id": "M4uOVMPGITUR",
        "outputId": "0d1ae86b-977a-4895-8412-bd076cc36484"
      },
      "execution_count": 5,
      "outputs": [
        {
          "output_type": "stream",
          "name": "stdout",
          "text": [
            "Hello world\n",
            "world  Hello\n"
          ]
        }
      ]
    },
    {
      "cell_type": "markdown",
      "source": [
        "Задание 3"
      ],
      "metadata": {
        "id": "S8QkOolYJkG8"
      }
    },
    {
      "cell_type": "code",
      "source": [
        "-----"
      ],
      "metadata": {
        "id": "gEFGalgFJlhf"
      },
      "execution_count": null,
      "outputs": []
    },
    {
      "cell_type": "markdown",
      "source": [
        "Задание 4"
      ],
      "metadata": {
        "id": "ChBKpocpJ786"
      }
    },
    {
      "cell_type": "code",
      "source": [
        "a = (str(input()).replace('1','one'))\n",
        "print(a)"
      ],
      "metadata": {
        "colab": {
          "base_uri": "https://localhost:8080/"
        },
        "id": "P2oFG0mzJ9oh",
        "outputId": "abd7386c-f5ff-4fae-a61c-f28f196aa126"
      },
      "execution_count": 6,
      "outputs": [
        {
          "output_type": "stream",
          "name": "stdout",
          "text": [
            "1+1=2\n",
            "one+one=2\n"
          ]
        }
      ]
    },
    {
      "cell_type": "markdown",
      "source": [
        "Задание 5"
      ],
      "metadata": {
        "id": "FBy9IorDKddv"
      }
    },
    {
      "cell_type": "code",
      "source": [
        "a = (str(input()).replace('@',''))\n",
        "print(a)"
      ],
      "metadata": {
        "colab": {
          "base_uri": "https://localhost:8080/"
        },
        "id": "BZgLJEcvKfNB",
        "outputId": "5ab4ba07-ac91-458c-f8c0-782fa0db834e"
      },
      "execution_count": 8,
      "outputs": [
        {
          "output_type": "stream",
          "name": "stdout",
          "text": [
            "john@smith.com\n",
            "johnsmith.com\n"
          ]
        }
      ]
    }
  ]
}