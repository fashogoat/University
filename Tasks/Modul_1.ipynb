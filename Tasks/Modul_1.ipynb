{
  "nbformat": 4,
  "nbformat_minor": 0,
  "metadata": {
    "colab": {
      "provenance": [],
      "authorship_tag": "ABX9TyMR8Ok6YGHbOKj98jr821Ik",
      "include_colab_link": true
    },
    "kernelspec": {
      "name": "python3",
      "display_name": "Python 3"
    },
    "language_info": {
      "name": "python"
    }
  },
  "cells": [
    {
      "cell_type": "markdown",
      "metadata": {
        "id": "view-in-github",
        "colab_type": "text"
      },
      "source": [
        "<a href=\"https://colab.research.google.com/github/fashogoat/University/blob/main/Tasks/Modul_1.ipynb\" target=\"_parent\"><img src=\"https://colab.research.google.com/assets/colab-badge.svg\" alt=\"Open In Colab\"/></a>"
      ]
    },
    {
      "cell_type": "markdown",
      "source": [
        "Задание 1"
      ],
      "metadata": {
        "id": "riPRdlNpc0Kw"
      }
    },
    {
      "cell_type": "code",
      "source": [
        "print('Введите три числа')\n",
        "a = int(input())\n",
        "b = int(input())\n",
        "c = int(input())\n",
        "d = a+b+c\n",
        "print('Резултат' + ' : ' , d)"
      ],
      "metadata": {
        "colab": {
          "base_uri": "https://localhost:8080/"
        },
        "id": "djuODOnUc1ho",
        "outputId": "e1cfb343-7dc9-431d-dcc6-138da4a5edb6"
      },
      "execution_count": 16,
      "outputs": [
        {
          "output_type": "stream",
          "name": "stdout",
          "text": [
            "Введите три числа\n",
            "1\n",
            "2\n",
            "3\n",
            "Резултат :  6\n"
          ]
        }
      ]
    },
    {
      "cell_type": "markdown",
      "source": [
        "Задание 2"
      ],
      "metadata": {
        "id": "8JDjkPnme_3S"
      }
    },
    {
      "cell_type": "code",
      "source": [
        "print('Введите значение основания')\n",
        "a = int(input())\n",
        "print('Введите значение высоты')\n",
        "b = int(input())\n",
        "c = a*b/2\n",
        "print('Площадь треугольника' + ' =', c)"
      ],
      "metadata": {
        "colab": {
          "base_uri": "https://localhost:8080/"
        },
        "id": "inSZO7GEd5XI",
        "outputId": "ae3c1078-5915-48d9-b87a-15c9e325371d"
      },
      "execution_count": 26,
      "outputs": [
        {
          "output_type": "stream",
          "name": "stdout",
          "text": [
            "Введите значение основания\n",
            "3\n",
            "Введите значение высоты\n",
            "5\n",
            "Площадь треугольника = 7.5\n"
          ]
        }
      ]
    },
    {
      "cell_type": "markdown",
      "source": [
        "Задание 3"
      ],
      "metadata": {
        "id": "tr0KaLwliarP"
      }
    },
    {
      "cell_type": "code",
      "source": [
        "print('Здравствуйте, введите пожалуйста ваше имя.')\n",
        "a = (input())\n",
        "print('Привет ,', a , '!')"
      ],
      "metadata": {
        "colab": {
          "base_uri": "https://localhost:8080/"
        },
        "id": "m-Rn8KPLie4Q",
        "outputId": "812e074d-8867-4b92-9d1d-38343dacddfc"
      },
      "execution_count": 32,
      "outputs": [
        {
          "output_type": "stream",
          "name": "stdout",
          "text": [
            "Здравствуйте, введите пожалуйста ваше имя.\n",
            "Вася\n",
            "Привет , Вася !\n"
          ]
        }
      ]
    },
    {
      "cell_type": "markdown",
      "source": [
        "Задание 4"
      ],
      "metadata": {
        "id": "VauBsOzGjRAa"
      }
    },
    {
      "cell_type": "code",
      "source": [
        "print('Введите число')\n",
        "a = int(input())\n",
        "print('Следующее число для числа ', a,': ',  a+1)\n",
        "print('Предыдущее число для числа', a,': ',  a-1)"
      ],
      "metadata": {
        "colab": {
          "base_uri": "https://localhost:8080/"
        },
        "id": "qDxGnyMHjVEc",
        "outputId": "98326bd0-de67-4344-f4a6-20191963eddd"
      },
      "execution_count": 34,
      "outputs": [
        {
          "output_type": "stream",
          "name": "stdout",
          "text": [
            "Введите число\n",
            "179\n",
            "Следующее число для числа  179 :  180\n",
            "Предыдущее число для числа 179 :  178\n"
          ]
        }
      ]
    },
    {
      "cell_type": "markdown",
      "source": [
        "Задание 5"
      ],
      "metadata": {
        "id": "p7lJmFB_mJrN"
      }
    },
    {
      "cell_type": "code",
      "source": [
        "print('Введите количество студентов')\n",
        "a = int(input())\n",
        "print('Введите количество яблок')\n",
        "b = int(input())\n",
        "c = b // a # Число яблок у студентов\n",
        "d = b % a # Яблоки в корзине\n",
        "print('Яблок у студентов:', c, 'в корзине', d)"
      ],
      "metadata": {
        "colab": {
          "base_uri": "https://localhost:8080/"
        },
        "id": "UhR0QFY6mLqk",
        "outputId": "d6873a99-8f39-4416-8a81-a6465729cfa0"
      },
      "execution_count": 39,
      "outputs": [
        {
          "output_type": "stream",
          "name": "stdout",
          "text": [
            "Введите количество студентов\n",
            "6\n",
            "Введите количество яблок\n",
            "50\n",
            "Яблок у студентов: 8 в корзине 2\n"
          ]
        }
      ]
    },
    {
      "cell_type": "markdown",
      "source": [
        "Задание 6"
      ],
      "metadata": {
        "id": "uSwtx6M8pTDX"
      }
    },
    {
      "cell_type": "code",
      "source": [
        "print('Введите количество минут')\n",
        "a = int(input())\n",
        "b = a // 60 // 60 # Часы\n",
        "c = a // 60 # Минуты\n",
        "print('Полные часы:', b,'Полные минуты:', c)"
      ],
      "metadata": {
        "colab": {
          "base_uri": "https://localhost:8080/"
        },
        "id": "-jMmiGeRpVD6",
        "outputId": "c9187e92-c40e-4d51-a72e-5a152017f4b8"
      },
      "execution_count": 51,
      "outputs": [
        {
          "output_type": "stream",
          "name": "stdout",
          "text": [
            "Введите количество минут\n",
            "3900\n",
            "Полные часы: 1 Полные минуты: 65\n"
          ]
        }
      ]
    },
    {
      "cell_type": "markdown",
      "source": [
        "Задание 7"
      ],
      "metadata": {
        "id": "zLc4o1H-sM2H"
      }
    },
    {
      "cell_type": "code",
      "source": [
        "a = int(input())\n",
        "b = int(input())\n",
        "c = int(input())\n",
        "#Конец первой метки\n",
        "d = int(input())\n",
        "e = int(input())\n",
        "f = int(input())\n",
        "#Конец второй метки\n",
        "af = a * 60 * 60 #Часы в секундах\n",
        "bf = b * 60 #Минуты с екундах\n",
        "df = d * 60 * 60 #Часы в секундах\n",
        "ef = e * 60 #Минуты с екундах\n",
        "print(abs((af+bf+c)-(df+ef+f)))"
      ],
      "metadata": {
        "colab": {
          "base_uri": "https://localhost:8080/"
        },
        "id": "Y-wTlgRDsOek",
        "outputId": "10bd946a-17eb-46b8-f4a2-0d00a83e7397"
      },
      "execution_count": 58,
      "outputs": [
        {
          "output_type": "stream",
          "name": "stdout",
          "text": [
            "1\n",
            "2\n",
            "30\n",
            "1\n",
            "3\n",
            "20\n",
            "50\n"
          ]
        }
      ]
    }
  ]
}