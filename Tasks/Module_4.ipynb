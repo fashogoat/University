{
  "nbformat": 4,
  "nbformat_minor": 0,
  "metadata": {
    "colab": {
      "provenance": [],
      "authorship_tag": "ABX9TyMt3VUvFK1rQ4aPgmbeR29V",
      "include_colab_link": true
    },
    "kernelspec": {
      "name": "python3",
      "display_name": "Python 3"
    },
    "language_info": {
      "name": "python"
    }
  },
  "cells": [
    {
      "cell_type": "markdown",
      "metadata": {
        "id": "view-in-github",
        "colab_type": "text"
      },
      "source": [
        "<a href=\"https://colab.research.google.com/github/fashogoat/University/blob/main/Tasks/Module_4.ipynb\" target=\"_parent\"><img src=\"https://colab.research.google.com/assets/colab-badge.svg\" alt=\"Open In Colab\"/></a>"
      ]
    },
    {
      "cell_type": "markdown",
      "source": [
        "Задание 1"
      ],
      "metadata": {
        "id": "Xbal-ATL8bjk"
      }
    },
    {
      "cell_type": "code",
      "source": [
        "a = int(input())\n",
        "if a%2==0:\n",
        "  print('Чет')\n",
        "else:\n",
        "  print('Нечет')"
      ],
      "metadata": {
        "id": "6Se3hV0q8dG-"
      },
      "execution_count": null,
      "outputs": []
    },
    {
      "cell_type": "markdown",
      "source": [
        "Задание 2"
      ],
      "metadata": {
        "id": "oj6-JLMM85j5"
      }
    },
    {
      "cell_type": "code",
      "source": [
        "a = int(input())\n",
        "b = int(input())\n",
        "if a<b:\n",
        "  print(a)"
      ],
      "metadata": {
        "colab": {
          "base_uri": "https://localhost:8080/"
        },
        "id": "6siuJdNN862q",
        "outputId": "aa80914b-f95a-4296-f5f0-a97e5e3adba7"
      },
      "execution_count": 7,
      "outputs": [
        {
          "output_type": "stream",
          "name": "stdout",
          "text": [
            "5\n",
            "10\n",
            "5\n"
          ]
        }
      ]
    },
    {
      "cell_type": "markdown",
      "source": [
        "Задание 3"
      ],
      "metadata": {
        "id": "ePaQ-N4z9jbP"
      }
    },
    {
      "cell_type": "code",
      "source": [
        "a = int(input())\n",
        "if a<0:\n",
        "  print(-1)\n",
        "else:\n",
        "  print(1)\n"
      ],
      "metadata": {
        "colab": {
          "base_uri": "https://localhost:8080/"
        },
        "id": "156bWYt29xRw",
        "outputId": "e1b52ef6-3135-4367-fdf1-632e2de50096"
      },
      "execution_count": 12,
      "outputs": [
        {
          "output_type": "stream",
          "name": "stdout",
          "text": [
            "179\n",
            "1\n"
          ]
        }
      ]
    },
    {
      "cell_type": "markdown",
      "source": [
        "Задание 4"
      ],
      "metadata": {
        "id": "qlHRUnZK-GA2"
      }
    },
    {
      "cell_type": "code",
      "source": [
        "a = int(input())\n",
        "b = 0\n",
        "while a>0:\n",
        "  a=a//10\n",
        "  b=b+1\n",
        "if b==3:\n",
        "  print('Да')\n",
        "else:\n",
        "  print('Нет')"
      ],
      "metadata": {
        "colab": {
          "base_uri": "https://localhost:8080/"
        },
        "id": "5TIy5OLa-JZ0",
        "outputId": "9506622e-a7a6-4131-8e8e-6101764fa95f"
      },
      "execution_count": 36,
      "outputs": [
        {
          "output_type": "stream",
          "name": "stdout",
          "text": [
            "179\n",
            "Да\n"
          ]
        }
      ]
    },
    {
      "cell_type": "markdown",
      "source": [
        "Задание 5"
      ],
      "metadata": {
        "id": "SWD_1WjIBOrD"
      }
    },
    {
      "cell_type": "code",
      "source": [
        "a = int(input())\n",
        "b = int(input())\n",
        "if a>0 or b>0:\n",
        "  print('Да')\n",
        "else:\n",
        "  print('Нет')"
      ],
      "metadata": {
        "colab": {
          "base_uri": "https://localhost:8080/"
        },
        "id": "HruFyfjwBQNG",
        "outputId": "25073d41-9ea6-4af8-9310-c433c3d7028a"
      },
      "execution_count": 42,
      "outputs": [
        {
          "output_type": "stream",
          "name": "stdout",
          "text": [
            "1\n",
            "2\n",
            "Да\n"
          ]
        }
      ]
    },
    {
      "cell_type": "markdown",
      "source": [
        "Задание 6"
      ],
      "metadata": {
        "id": "NVdGzp8rB2VE"
      }
    },
    {
      "cell_type": "code",
      "source": [
        "a = input()\n",
        "if int(a[0])<int(a[1]) and int(a[1])<int(a[2]):\n",
        "  print('Да')\n",
        "else:\n",
        "  print('Нет')"
      ],
      "metadata": {
        "colab": {
          "base_uri": "https://localhost:8080/"
        },
        "id": "_Kv1SyN9B4G9",
        "outputId": "aabdc0f6-a811-4942-a80d-9d761174d0ff"
      },
      "execution_count": 50,
      "outputs": [
        {
          "output_type": "stream",
          "name": "stdout",
          "text": [
            "197\n",
            "Нет\n"
          ]
        }
      ]
    },
    {
      "cell_type": "markdown",
      "source": [
        "Задание 7"
      ],
      "metadata": {
        "id": "q377zVGYEQcJ"
      }
    },
    {
      "cell_type": "code",
      "source": [
        "a = str(input())\n",
        "b = a[::-1]\n",
        "if a == b:\n",
        "  print(\"Да\")\n",
        "else:\n",
        "  print(\"Нет\")"
      ],
      "metadata": {
        "colab": {
          "base_uri": "https://localhost:8080/"
        },
        "id": "pXbYS4uhESIQ",
        "outputId": "4a3c11e0-32a7-4f78-ddc4-a89feed66feb"
      },
      "execution_count": 52,
      "outputs": [
        {
          "output_type": "stream",
          "name": "stdout",
          "text": [
            "1234\n",
            "Нет\n"
          ]
        }
      ]
    },
    {
      "cell_type": "markdown",
      "source": [
        "Задание 8"
      ],
      "metadata": {
        "id": "hNoZmdy0FWHY"
      }
    },
    {
      "cell_type": "code",
      "source": [
        "a = int(input())\n",
        "print((30 if a in [4, 6, 9, 11] else 28 if a == 2 else 31))"
      ],
      "metadata": {
        "colab": {
          "base_uri": "https://localhost:8080/"
        },
        "id": "WbjXt_QvFXP4",
        "outputId": "131155d4-509b-4c0b-f4e1-6f9494abb419"
      },
      "execution_count": 78,
      "outputs": [
        {
          "output_type": "stream",
          "name": "stdout",
          "text": [
            "3\n",
            "31\n"
          ]
        }
      ]
    },
    {
      "cell_type": "markdown",
      "source": [
        "Задание 9"
      ],
      "metadata": {
        "id": "CTpuKlypIDRl"
      }
    },
    {
      "cell_type": "code",
      "source": [
        "a = int(input())\n",
        "b = int(input())\n",
        "c = int(input())\n",
        "\n",
        "if a == b == c:\n",
        "    print(3)\n",
        "elif a == b or a == c or b == c:\n",
        "    print(2)\n",
        "else:\n",
        "    print(0)"
      ],
      "metadata": {
        "colab": {
          "base_uri": "https://localhost:8080/"
        },
        "id": "z78N5t5YIuce",
        "outputId": "0170b477-f8de-4cb7-f20e-3f5f0cecdece"
      },
      "execution_count": 65,
      "outputs": [
        {
          "output_type": "stream",
          "name": "stdout",
          "text": [
            "1\n",
            "2\n",
            "3\n",
            "0\n"
          ]
        }
      ]
    },
    {
      "cell_type": "markdown",
      "source": [
        "Задание 10"
      ],
      "metadata": {
        "id": "7yIuxUb8JbaB"
      }
    },
    {
      "cell_type": "code",
      "source": [
        "x = int(input())\n",
        "y = int(input())\n",
        "\n",
        "if (x + y) % 2 == 0:\n",
        "    print(\"Белая\")\n",
        "else:\n",
        "    print(\"Чёрная\")"
      ],
      "metadata": {
        "colab": {
          "base_uri": "https://localhost:8080/"
        },
        "id": "8rtypNzNJczu",
        "outputId": "a25a01c9-ed22-4722-8c08-5711ab92c4cd"
      },
      "execution_count": 73,
      "outputs": [
        {
          "output_type": "stream",
          "name": "stdout",
          "text": [
            "8\n",
            "2\n",
            "Белая\n"
          ]
        }
      ]
    },
    {
      "cell_type": "markdown",
      "source": [
        "Задание 11"
      ],
      "metadata": {
        "id": "8csJ7AKxMQVX"
      }
    },
    {
      "cell_type": "code",
      "source": [
        "x1 = int(input())\n",
        "y1 = int(input())\n",
        "x2 = int(input())\n",
        "y2 = int(input())\n",
        "\n",
        "if (x1 + y1) % 2 == (x2 + y2) % 2:\n",
        "    print(\"Да\")\n",
        "else:\n",
        "    print(\"Нет\")"
      ],
      "metadata": {
        "colab": {
          "base_uri": "https://localhost:8080/"
        },
        "id": "ppf2wvYlMTJN",
        "outputId": "01f18402-2cd6-4685-a492-4a6fd4eb50e7"
      },
      "execution_count": 74,
      "outputs": [
        {
          "output_type": "stream",
          "name": "stdout",
          "text": [
            "1\n",
            "1\n",
            "2\n",
            "6\n",
            "Да\n"
          ]
        }
      ]
    },
    {
      "cell_type": "markdown",
      "source": [
        "Задание 12"
      ],
      "metadata": {
        "id": "OeRkzh0oMvzB"
      }
    },
    {
      "cell_type": "code",
      "source": [
        "--"
      ],
      "metadata": {
        "id": "e97_N4GLMvbv"
      },
      "execution_count": null,
      "outputs": []
    }
  ]
}