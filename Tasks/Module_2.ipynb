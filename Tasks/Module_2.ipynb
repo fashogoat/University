{
  "nbformat": 4,
  "nbformat_minor": 0,
  "metadata": {
    "colab": {
      "provenance": [],
      "authorship_tag": "ABX9TyNuRJYEa9AbIHLa/vUAzg7b",
      "include_colab_link": true
    },
    "kernelspec": {
      "name": "python3",
      "display_name": "Python 3"
    },
    "language_info": {
      "name": "python"
    }
  },
  "cells": [
    {
      "cell_type": "markdown",
      "metadata": {
        "id": "view-in-github",
        "colab_type": "text"
      },
      "source": [
        "<a href=\"https://colab.research.google.com/github/fashogoat/University/blob/main/Tasks/Modul_2.ipynb\" target=\"_parent\"><img src=\"https://colab.research.google.com/assets/colab-badge.svg\" alt=\"Open In Colab\"/></a>"
      ]
    },
    {
      "cell_type": "markdown",
      "source": [
        "Задание 1"
      ],
      "metadata": {
        "id": "qMBhUnkGzBHS"
      }
    },
    {
      "cell_type": "code",
      "source": [
        "a = int(input())\n",
        "l = a // 10\n",
        "r = a - (l*10)\n",
        "print(r, l)"
      ],
      "metadata": {
        "colab": {
          "base_uri": "https://localhost:8080/"
        },
        "id": "ThxIwjKBzCpc",
        "outputId": "73126bcd-4440-4d28-c33b-abc246e12b58"
      },
      "execution_count": 2,
      "outputs": [
        {
          "output_type": "stream",
          "name": "stdout",
          "text": [
            "79\n",
            "9 7\n"
          ]
        }
      ]
    },
    {
      "cell_type": "markdown",
      "source": [
        "Задание 2"
      ],
      "metadata": {
        "id": "-zSBglR70NaU"
      }
    },
    {
      "cell_type": "code",
      "source": [
        "a = input()\n",
        "ra = a[::-1]\n",
        "print(ra)"
      ],
      "metadata": {
        "colab": {
          "base_uri": "https://localhost:8080/"
        },
        "id": "SOqqM8uV0OuN",
        "outputId": "6456fed2-2a24-4b9c-9980-3f77639bdca6"
      },
      "execution_count": 7,
      "outputs": [
        {
          "output_type": "stream",
          "name": "stdout",
          "text": [
            "79\n",
            "97\n"
          ]
        }
      ]
    },
    {
      "cell_type": "markdown",
      "source": [
        "Задание 3"
      ],
      "metadata": {
        "id": "a_2eKZqU26Up"
      }
    },
    {
      "cell_type": "code",
      "source": [
        "print(input()[-2:])"
      ],
      "metadata": {
        "colab": {
          "base_uri": "https://localhost:8080/"
        },
        "id": "UWlKQEq628EJ",
        "outputId": "e32e0a0c-c085-4fd0-9297-3eaeec43c913"
      },
      "execution_count": 21,
      "outputs": [
        {
          "output_type": "stream",
          "name": "stdout",
          "text": [
            "1234\n",
            "34\n"
          ]
        }
      ]
    },
    {
      "cell_type": "markdown",
      "source": [
        "Задание 4"
      ],
      "metadata": {
        "id": "UBhGmox27fS1"
      }
    },
    {
      "cell_type": "code",
      "source": [
        "print(str(input())[-2])"
      ],
      "metadata": {
        "colab": {
          "base_uri": "https://localhost:8080/"
        },
        "id": "Iq8-Ugu07e3Z",
        "outputId": "d47eacdc-894a-4e8f-d640-f5a4ee45bbf9"
      },
      "execution_count": 22,
      "outputs": [
        {
          "output_type": "stream",
          "name": "stdout",
          "text": [
            "1234\n",
            "3\n"
          ]
        }
      ]
    },
    {
      "cell_type": "markdown",
      "source": [
        "Задание 5"
      ],
      "metadata": {
        "id": "KDH_QG1uDZSD"
      }
    },
    {
      "cell_type": "code",
      "source": [
        "a = int(input())\n",
        "b = (str(a)[-1])\n",
        "c = (str(a)[-2])\n",
        "d = (str(a)[-3])\n",
        "e = b+c+d\n",
        "print(e)"
      ],
      "metadata": {
        "colab": {
          "base_uri": "https://localhost:8080/"
        },
        "id": "jsV26_WaDbjU",
        "outputId": "106b59d6-fd1f-4010-b31f-2ac51492e47d"
      },
      "execution_count": 31,
      "outputs": [
        {
          "output_type": "stream",
          "name": "stdout",
          "text": [
            "123\n",
            "6\n"
          ]
        }
      ]
    },
    {
      "cell_type": "markdown",
      "source": [
        "Задание 6"
      ],
      "metadata": {
        "id": "HEuLUG1CFndr"
      }
    },
    {
      "cell_type": "code",
      "source": [
        "------"
      ],
      "metadata": {
        "id": "qA8YzcaHFo86"
      },
      "execution_count": null,
      "outputs": []
    },
    {
      "cell_type": "markdown",
      "source": [
        "Задание 7"
      ],
      "metadata": {
        "id": "BXoiBJJLFukx"
      }
    },
    {
      "cell_type": "code",
      "source": [
        "------"
      ],
      "metadata": {
        "id": "hQcrP7gVFwVC"
      },
      "execution_count": null,
      "outputs": []
    }
  ]
}