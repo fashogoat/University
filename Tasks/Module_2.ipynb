{
  "nbformat": 4,
  "nbformat_minor": 0,
  "metadata": {
    "colab": {
      "provenance": [],
      "authorship_tag": "ABX9TyPr3+9mMFhN0Z23HlrSYXC6",
      "include_colab_link": true
    },
    "kernelspec": {
      "name": "python3",
      "display_name": "Python 3"
    },
    "language_info": {
      "name": "python"
    }
  },
  "cells": [
    {
      "cell_type": "markdown",
      "metadata": {
        "id": "view-in-github",
        "colab_type": "text"
      },
      "source": [
        "<a href=\"https://colab.research.google.com/github/fashogoat/University/blob/main/Tasks/Module_2.ipynb\" target=\"_parent\"><img src=\"https://colab.research.google.com/assets/colab-badge.svg\" alt=\"Open In Colab\"/></a>"
      ]
    },
    {
      "cell_type": "markdown",
      "source": [
        "Задание 1"
      ],
      "metadata": {
        "id": "qMBhUnkGzBHS"
      }
    },
    {
      "cell_type": "code",
      "source": [
        "a = int(input())\n",
        "l = a // 10\n",
        "r = a - (l*10)\n",
        "print(r, l)"
      ],
      "metadata": {
        "colab": {
          "base_uri": "https://localhost:8080/"
        },
        "id": "ThxIwjKBzCpc",
        "outputId": "73126bcd-4440-4d28-c33b-abc246e12b58"
      },
      "execution_count": null,
      "outputs": [
        {
          "output_type": "stream",
          "name": "stdout",
          "text": [
            "79\n",
            "9 7\n"
          ]
        }
      ]
    },
    {
      "cell_type": "markdown",
      "source": [
        "Задание 2"
      ],
      "metadata": {
        "id": "-zSBglR70NaU"
      }
    },
    {
      "cell_type": "code",
      "source": [
        "a = input()\n",
        "ra = a[::-1]\n",
        "print(ra)"
      ],
      "metadata": {
        "colab": {
          "base_uri": "https://localhost:8080/"
        },
        "id": "SOqqM8uV0OuN",
        "outputId": "6456fed2-2a24-4b9c-9980-3f77639bdca6"
      },
      "execution_count": null,
      "outputs": [
        {
          "output_type": "stream",
          "name": "stdout",
          "text": [
            "79\n",
            "97\n"
          ]
        }
      ]
    },
    {
      "cell_type": "markdown",
      "source": [
        "Задание 3"
      ],
      "metadata": {
        "id": "a_2eKZqU26Up"
      }
    },
    {
      "cell_type": "code",
      "source": [
        "print(input()[-2:])"
      ],
      "metadata": {
        "colab": {
          "base_uri": "https://localhost:8080/"
        },
        "id": "UWlKQEq628EJ",
        "outputId": "e32e0a0c-c085-4fd0-9297-3eaeec43c913"
      },
      "execution_count": null,
      "outputs": [
        {
          "output_type": "stream",
          "name": "stdout",
          "text": [
            "1234\n",
            "34\n"
          ]
        }
      ]
    },
    {
      "cell_type": "markdown",
      "source": [
        "Задание 4"
      ],
      "metadata": {
        "id": "UBhGmox27fS1"
      }
    },
    {
      "cell_type": "code",
      "source": [
        "print(str(input())[-2])"
      ],
      "metadata": {
        "colab": {
          "base_uri": "https://localhost:8080/"
        },
        "id": "Iq8-Ugu07e3Z",
        "outputId": "d47eacdc-894a-4e8f-d640-f5a4ee45bbf9"
      },
      "execution_count": null,
      "outputs": [
        {
          "output_type": "stream",
          "name": "stdout",
          "text": [
            "1234\n",
            "3\n"
          ]
        }
      ]
    },
    {
      "cell_type": "markdown",
      "source": [
        "Задание 5"
      ],
      "metadata": {
        "id": "KDH_QG1uDZSD"
      }
    },
    {
      "cell_type": "code",
      "source": [
        "a = int(input())\n",
        "b = (str(a)[-1])\n",
        "c = (str(a)[-2])\n",
        "d = (str(a)[-3])\n",
        "e = b+c+d\n",
        "print(e)"
      ],
      "metadata": {
        "colab": {
          "base_uri": "https://localhost:8080/"
        },
        "id": "jsV26_WaDbjU",
        "outputId": "106b59d6-fd1f-4010-b31f-2ac51492e47d"
      },
      "execution_count": null,
      "outputs": [
        {
          "output_type": "stream",
          "name": "stdout",
          "text": [
            "123\n",
            "6\n"
          ]
        }
      ]
    },
    {
      "cell_type": "markdown",
      "source": [
        "Задание 6"
      ],
      "metadata": {
        "id": "HEuLUG1CFndr"
      }
    },
    {
      "cell_type": "code",
      "source": [
        "n = float(input())\n",
        "print(int(n % 1 // 0.1))"
      ],
      "metadata": {
        "id": "qA8YzcaHFo86",
        "colab": {
          "base_uri": "https://localhost:8080/"
        },
        "outputId": "6fce45f7-39d9-450c-8cb6-5d62aa0e7b6d"
      },
      "execution_count": null,
      "outputs": [
        {
          "output_type": "stream",
          "name": "stdout",
          "text": [
            "1.76455754\n",
            "7\n"
          ]
        }
      ]
    },
    {
      "cell_type": "markdown",
      "source": [
        "Задание 7"
      ],
      "metadata": {
        "id": "BXoiBJJLFukx"
      }
    },
    {
      "cell_type": "code",
      "source": [
        "a = int(input())\n",
        "print((a-1) // 100+1)"
      ],
      "metadata": {
        "id": "hQcrP7gVFwVC"
      },
      "execution_count": null,
      "outputs": []
    },
    {
      "cell_type": "markdown",
      "source": [
        "Задание 8"
      ],
      "metadata": {
        "id": "ioY-FqAUKSAP"
      }
    },
    {
      "cell_type": "code",
      "source": [
        "a = int(input())\n",
        "print((3+a) % 7)"
      ],
      "metadata": {
        "colab": {
          "base_uri": "https://localhost:8080/"
        },
        "id": "5kmiv_jPKTch",
        "outputId": "8d04aa60-38fd-43fd-a9e9-d74dda0d9f11"
      },
      "execution_count": null,
      "outputs": [
        {
          "output_type": "stream",
          "name": "stdout",
          "text": [
            "1\n",
            "4\n"
          ]
        }
      ]
    },
    {
      "cell_type": "markdown",
      "source": [
        "Задание 9"
      ],
      "metadata": {
        "id": "t3J6IZCnKT_1"
      }
    },
    {
      "cell_type": "code",
      "source": [
        "mina = int(input())\n",
        "hour = mina // 60%24\n",
        "minb = mina % 60\n",
        "\n",
        "print(f\"{hour}:{minb}\")"
      ],
      "metadata": {
        "colab": {
          "base_uri": "https://localhost:8080/"
        },
        "id": "pJh2n59QKVIz",
        "outputId": "c79dca46-66bd-42dc-bbd9-2f29ce8995b5"
      },
      "execution_count": null,
      "outputs": [
        {
          "output_type": "stream",
          "name": "stdout",
          "text": [
            "150\n",
            "2:30\n"
          ]
        }
      ]
    },
    {
      "cell_type": "markdown",
      "source": [
        "Задание 10"
      ],
      "metadata": {
        "id": "pm0EG81TKVk_"
      }
    },
    {
      "cell_type": "code",
      "source": [
        "a = int(input())\n",
        "b = int(input())\n",
        "c = int(input())\n",
        "\n",
        "print((a//2 + a%2) + (b//2 + b%2) + (c//2 + c%2))"
      ],
      "metadata": {
        "colab": {
          "base_uri": "https://localhost:8080/"
        },
        "id": "vB4whMsCKcoW",
        "outputId": "bfc36a54-c5ba-4b3d-b4dc-00023ce7d034"
      },
      "execution_count": null,
      "outputs": [
        {
          "output_type": "stream",
          "name": "stdout",
          "text": [
            "20\n",
            "21\n",
            "22\n",
            "32\n"
          ]
        }
      ]
    }
  ]
}